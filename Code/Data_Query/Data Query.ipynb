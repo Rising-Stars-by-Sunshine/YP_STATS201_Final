{
 "cells": [
  {
   "cell_type": "code",
   "execution_count": 5,
   "metadata": {},
   "outputs": [],
   "source": [
    "import pandas as pd\n",
    "from sklearn.preprocessing import LabelEncoder\n",
    "\n",
    "# Load the dataset\n",
    "url = \"https://raw.githubusercontent.com/Rising-Stars-by-Sunshine/Yian_STATS201/main/Data/dataset.csv\"\n",
    "df = pd.read_csv(url)\n",
    "\n",
    "df.rename(columns = {'Nacionality':'Nationality'}, inplace = True)\n",
    "le = LabelEncoder()\n",
    "\n",
    "df['Target'] = le.fit_transform(df['Target'])\n",
    "        \n",
    "df.head()\n",
    "df.to_csv('D:/桌面/dataset_processed.csv', index=False)\n",
    "\n"
   ]
  }
 ],
 "metadata": {
  "kernelspec": {
   "display_name": "Python 3",
   "language": "python",
   "name": "python3"
  },
  "language_info": {
   "codemirror_mode": {
    "name": "ipython",
    "version": 3
   },
   "file_extension": ".py",
   "mimetype": "text/x-python",
   "name": "python",
   "nbconvert_exporter": "python",
   "pygments_lexer": "ipython3",
   "version": "3.11.4"
  }
 },
 "nbformat": 4,
 "nbformat_minor": 2
}
